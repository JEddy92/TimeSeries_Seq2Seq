{
 "cells": [
  {
   "cell_type": "code",
   "execution_count": null,
   "metadata": {},
   "outputs": [],
   "source": [
    "import pandas as pd\n",
    "import numpy as np\n",
    "import matplotlib.pyplot as plt\n",
    "%matplotlib inline\n",
    "\n",
    "import seaborn as sns\n",
    "sns.set()"
   ]
  },
  {
   "cell_type": "code",
   "execution_count": null,
   "metadata": {},
   "outputs": [],
   "source": [
    "data_len=527 # t=512 time steps\n",
    "data_row_len=2**16 #2^16=65536 series"
   ]
  },
  {
   "cell_type": "code",
   "execution_count": null,
   "metadata": {},
   "outputs": [],
   "source": [
    "def wave_func(xs):\n",
    "    period=0.1 + np.random.rand() * 1.4 #[0.1,1.5)\n",
    "    amp=0.1 + np.random.rand() * 0.9 #[0.1,1.9)\n",
    "    t=np.random.rand()*14.0 #[0,14)\n",
    "    return np.sin(2*np.pi*xs/(14*period)+t) * amp"
   ]
  },
  {
   "cell_type": "code",
   "execution_count": null,
   "metadata": {},
   "outputs": [],
   "source": [
    "xs=np.arange(data_len)\n",
    "\n",
    "columns=list(range(0,data_len))\n",
    "line=\"labels,\" + str(columns).strip('[]')\n",
    "file=open(\"../data/simple_trig.csv\", \"w\")\n",
    "file.write(line + \"\\n\")\n",
    "\n",
    "for i in range(0,data_row_len):\n",
    "    ys=wave_func(xs)\n",
    "    pg=\"\\\"data{0:04x}\\\",\".format(i)\n",
    "    line=pg+(','.join(map(str,ys)))\n",
    "    file.write(line + \"\\n\")\n",
    "file.close()"
   ]
  },
  {
   "cell_type": "code",
   "execution_count": null,
   "metadata": {},
   "outputs": [],
   "source": [
    "df = pd.read_csv('../data/simple_trig.csv')"
   ]
  },
  {
   "cell_type": "code",
   "execution_count": null,
   "metadata": {},
   "outputs": [],
   "source": [
    "df.head()"
   ]
  },
  {
   "cell_type": "code",
   "execution_count": null,
   "metadata": {},
   "outputs": [],
   "source": [
    "df.tail()"
   ]
  },
  {
   "cell_type": "code",
   "execution_count": null,
   "metadata": {},
   "outputs": [],
   "source": []
  }
 ],
 "metadata": {
  "kernelspec": {
   "display_name": "Python 3",
   "language": "python",
   "name": "python3"
  },
  "language_info": {
   "codemirror_mode": {
    "name": "ipython",
    "version": 3
   },
   "file_extension": ".py",
   "mimetype": "text/x-python",
   "name": "python",
   "nbconvert_exporter": "python",
   "pygments_lexer": "ipython3",
   "version": "3.5.2"
  }
 },
 "nbformat": 4,
 "nbformat_minor": 2
}
